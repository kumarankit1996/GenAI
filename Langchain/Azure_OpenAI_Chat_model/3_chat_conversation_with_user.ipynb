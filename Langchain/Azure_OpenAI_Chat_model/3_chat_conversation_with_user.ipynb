{
  "cells": [
    {
      "cell_type": "code",
      "source": [
        "%pip install -r ../requirements.txt"
      ],
      "outputs": [
        {
          "output_type": "stream",
          "name": "stdout",
          "text": "Requirement already satisfied: langchain-openai in /anaconda/envs/azureml_py310_sdkv2/lib/python3.10/site-packages (from -r ../requirements.txt (line 1)) (0.1.21)\nRequirement already satisfied: python-dotenv in /anaconda/envs/azureml_py310_sdkv2/lib/python3.10/site-packages (from -r ../requirements.txt (line 2)) (1.0.1)\nRequirement already satisfied: langchain in /anaconda/envs/azureml_py310_sdkv2/lib/python3.10/site-packages (from -r ../requirements.txt (line 3)) (0.2.12)\nRequirement already satisfied: langchain-community in /anaconda/envs/azureml_py310_sdkv2/lib/python3.10/site-packages (from -r ../requirements.txt (line 4)) (0.2.11)\nRequirement already satisfied: wikipedia in /anaconda/envs/azureml_py310_sdkv2/lib/python3.10/site-packages (from -r ../requirements.txt (line 5)) (1.4.0)\nRequirement already satisfied: tavily-python in /anaconda/envs/azureml_py310_sdkv2/lib/python3.10/site-packages (from -r ../requirements.txt (line 6)) (0.3.7)\nRequirement already satisfied: langchain-core<0.3.0,>=0.2.29 in /anaconda/envs/azureml_py310_sdkv2/lib/python3.10/site-packages (from langchain-openai->-r ../requirements.txt (line 1)) (0.2.29)\nRequirement already satisfied: openai<2.0.0,>=1.40.0 in /anaconda/envs/azureml_py310_sdkv2/lib/python3.10/site-packages (from langchain-openai->-r ../requirements.txt (line 1)) (1.40.3)\nRequirement already satisfied: tiktoken<1,>=0.7 in /anaconda/envs/azureml_py310_sdkv2/lib/python3.10/site-packages (from langchain-openai->-r ../requirements.txt (line 1)) (0.7.0)\nRequirement already satisfied: PyYAML>=5.3 in /anaconda/envs/azureml_py310_sdkv2/lib/python3.10/site-packages (from langchain->-r ../requirements.txt (line 3)) (6.0.1)\nRequirement already satisfied: SQLAlchemy<3,>=1.4 in /anaconda/envs/azureml_py310_sdkv2/lib/python3.10/site-packages (from langchain->-r ../requirements.txt (line 3)) (2.0.30)\nRequirement already satisfied: aiohttp<4.0.0,>=3.8.3 in /anaconda/envs/azureml_py310_sdkv2/lib/python3.10/site-packages (from langchain->-r ../requirements.txt (line 3)) (3.10.3)\nRequirement already satisfied: async-timeout<5.0.0,>=4.0.0 in /anaconda/envs/azureml_py310_sdkv2/lib/python3.10/site-packages (from langchain->-r ../requirements.txt (line 3)) (4.0.3)\nRequirement already satisfied: langchain-text-splitters<0.3.0,>=0.2.0 in /anaconda/envs/azureml_py310_sdkv2/lib/python3.10/site-packages (from langchain->-r ../requirements.txt (line 3)) (0.2.2)\nRequirement already satisfied: langsmith<0.2.0,>=0.1.17 in /anaconda/envs/azureml_py310_sdkv2/lib/python3.10/site-packages (from langchain->-r ../requirements.txt (line 3)) (0.1.98)\nRequirement already satisfied: numpy<2,>=1 in /anaconda/envs/azureml_py310_sdkv2/lib/python3.10/site-packages (from langchain->-r ../requirements.txt (line 3)) (1.23.5)\nRequirement already satisfied: pydantic<3,>=1 in /anaconda/envs/azureml_py310_sdkv2/lib/python3.10/site-packages (from langchain->-r ../requirements.txt (line 3)) (2.8.2)\nRequirement already satisfied: requests<3,>=2 in /anaconda/envs/azureml_py310_sdkv2/lib/python3.10/site-packages (from langchain->-r ../requirements.txt (line 3)) (2.32.3)\nRequirement already satisfied: tenacity!=8.4.0,<9.0.0,>=8.1.0 in /anaconda/envs/azureml_py310_sdkv2/lib/python3.10/site-packages (from langchain->-r ../requirements.txt (line 3)) (8.5.0)\nRequirement already satisfied: dataclasses-json<0.7,>=0.5.7 in /anaconda/envs/azureml_py310_sdkv2/lib/python3.10/site-packages (from langchain-community->-r ../requirements.txt (line 4)) (0.6.7)\nRequirement already satisfied: beautifulsoup4 in /anaconda/envs/azureml_py310_sdkv2/lib/python3.10/site-packages (from wikipedia->-r ../requirements.txt (line 5)) (4.12.3)\nRequirement already satisfied: httpx in /anaconda/envs/azureml_py310_sdkv2/lib/python3.10/site-packages (from tavily-python->-r ../requirements.txt (line 6)) (0.27.0)\nRequirement already satisfied: aiohappyeyeballs>=2.3.0 in /anaconda/envs/azureml_py310_sdkv2/lib/python3.10/site-packages (from aiohttp<4.0.0,>=3.8.3->langchain->-r ../requirements.txt (line 3)) (2.3.5)\nRequirement already satisfied: aiosignal>=1.1.2 in /anaconda/envs/azureml_py310_sdkv2/lib/python3.10/site-packages (from aiohttp<4.0.0,>=3.8.3->langchain->-r ../requirements.txt (line 3)) (1.3.1)\nRequirement already satisfied: attrs>=17.3.0 in /anaconda/envs/azureml_py310_sdkv2/lib/python3.10/site-packages (from aiohttp<4.0.0,>=3.8.3->langchain->-r ../requirements.txt (line 3)) (23.2.0)\nRequirement already satisfied: frozenlist>=1.1.1 in /anaconda/envs/azureml_py310_sdkv2/lib/python3.10/site-packages (from aiohttp<4.0.0,>=3.8.3->langchain->-r ../requirements.txt (line 3)) (1.4.1)\nRequirement already satisfied: multidict<7.0,>=4.5 in /anaconda/envs/azureml_py310_sdkv2/lib/python3.10/site-packages (from aiohttp<4.0.0,>=3.8.3->langchain->-r ../requirements.txt (line 3)) (6.0.5)\nRequirement already satisfied: yarl<2.0,>=1.0 in /anaconda/envs/azureml_py310_sdkv2/lib/python3.10/site-packages (from aiohttp<4.0.0,>=3.8.3->langchain->-r ../requirements.txt (line 3)) (1.9.4)\nRequirement already satisfied: marshmallow<4.0.0,>=3.18.0 in /anaconda/envs/azureml_py310_sdkv2/lib/python3.10/site-packages (from dataclasses-json<0.7,>=0.5.7->langchain-community->-r ../requirements.txt (line 4)) (3.21.3)\nRequirement already satisfied: typing-inspect<1,>=0.4.0 in /anaconda/envs/azureml_py310_sdkv2/lib/python3.10/site-packages (from dataclasses-json<0.7,>=0.5.7->langchain-community->-r ../requirements.txt (line 4)) (0.9.0)\nRequirement already satisfied: jsonpatch<2.0,>=1.33 in /anaconda/envs/azureml_py310_sdkv2/lib/python3.10/site-packages (from langchain-core<0.3.0,>=0.2.29->langchain-openai->-r ../requirements.txt (line 1)) (1.33)\nRequirement already satisfied: packaging<25,>=23.2 in /anaconda/envs/azureml_py310_sdkv2/lib/python3.10/site-packages (from langchain-core<0.3.0,>=0.2.29->langchain-openai->-r ../requirements.txt (line 1)) (24.0)\nRequirement already satisfied: typing-extensions>=4.7 in /anaconda/envs/azureml_py310_sdkv2/lib/python3.10/site-packages (from langchain-core<0.3.0,>=0.2.29->langchain-openai->-r ../requirements.txt (line 1)) (4.12.2)\nRequirement already satisfied: orjson<4.0.0,>=3.9.14 in /anaconda/envs/azureml_py310_sdkv2/lib/python3.10/site-packages (from langsmith<0.2.0,>=0.1.17->langchain->-r ../requirements.txt (line 3)) (3.10.7)\nRequirement already satisfied: anyio<5,>=3.5.0 in /anaconda/envs/azureml_py310_sdkv2/lib/python3.10/site-packages (from openai<2.0.0,>=1.40.0->langchain-openai->-r ../requirements.txt (line 1)) (4.4.0)\nRequirement already satisfied: distro<2,>=1.7.0 in /anaconda/envs/azureml_py310_sdkv2/lib/python3.10/site-packages (from openai<2.0.0,>=1.40.0->langchain-openai->-r ../requirements.txt (line 1)) (1.9.0)\nRequirement already satisfied: jiter<1,>=0.4.0 in /anaconda/envs/azureml_py310_sdkv2/lib/python3.10/site-packages (from openai<2.0.0,>=1.40.0->langchain-openai->-r ../requirements.txt (line 1)) (0.5.0)\nRequirement already satisfied: sniffio in /anaconda/envs/azureml_py310_sdkv2/lib/python3.10/site-packages (from openai<2.0.0,>=1.40.0->langchain-openai->-r ../requirements.txt (line 1)) (1.3.1)\nRequirement already satisfied: tqdm>4 in /anaconda/envs/azureml_py310_sdkv2/lib/python3.10/site-packages (from openai<2.0.0,>=1.40.0->langchain-openai->-r ../requirements.txt (line 1)) (4.66.4)\nRequirement already satisfied: certifi in /anaconda/envs/azureml_py310_sdkv2/lib/python3.10/site-packages (from httpx->tavily-python->-r ../requirements.txt (line 6)) (2024.6.2)\nRequirement already satisfied: httpcore==1.* in /anaconda/envs/azureml_py310_sdkv2/lib/python3.10/site-packages (from httpx->tavily-python->-r ../requirements.txt (line 6)) (1.0.5)\nRequirement already satisfied: idna in /anaconda/envs/azureml_py310_sdkv2/lib/python3.10/site-packages (from httpx->tavily-python->-r ../requirements.txt (line 6)) (3.7)\nRequirement already satisfied: h11<0.15,>=0.13 in /anaconda/envs/azureml_py310_sdkv2/lib/python3.10/site-packages (from httpcore==1.*->httpx->tavily-python->-r ../requirements.txt (line 6)) (0.14.0)\nRequirement already satisfied: annotated-types>=0.4.0 in /anaconda/envs/azureml_py310_sdkv2/lib/python3.10/site-packages (from pydantic<3,>=1->langchain->-r ../requirements.txt (line 3)) (0.7.0)\nRequirement already satisfied: pydantic-core==2.20.1 in /anaconda/envs/azureml_py310_sdkv2/lib/python3.10/site-packages (from pydantic<3,>=1->langchain->-r ../requirements.txt (line 3)) (2.20.1)\nRequirement already satisfied: charset-normalizer<4,>=2 in /anaconda/envs/azureml_py310_sdkv2/lib/python3.10/site-packages (from requests<3,>=2->langchain->-r ../requirements.txt (line 3)) (3.3.2)\nRequirement already satisfied: urllib3<3,>=1.21.1 in /anaconda/envs/azureml_py310_sdkv2/lib/python3.10/site-packages (from requests<3,>=2->langchain->-r ../requirements.txt (line 3)) (2.2.1)\nRequirement already satisfied: greenlet!=0.4.17 in /anaconda/envs/azureml_py310_sdkv2/lib/python3.10/site-packages (from SQLAlchemy<3,>=1.4->langchain->-r ../requirements.txt (line 3)) (3.0.3)\nRequirement already satisfied: regex>=2022.1.18 in /anaconda/envs/azureml_py310_sdkv2/lib/python3.10/site-packages (from tiktoken<1,>=0.7->langchain-openai->-r ../requirements.txt (line 1)) (2024.7.24)\nRequirement already satisfied: soupsieve>1.2 in /anaconda/envs/azureml_py310_sdkv2/lib/python3.10/site-packages (from beautifulsoup4->wikipedia->-r ../requirements.txt (line 5)) (2.5)\nRequirement already satisfied: exceptiongroup>=1.0.2 in /anaconda/envs/azureml_py310_sdkv2/lib/python3.10/site-packages (from anyio<5,>=3.5.0->openai<2.0.0,>=1.40.0->langchain-openai->-r ../requirements.txt (line 1)) (1.2.0)\nRequirement already satisfied: jsonpointer>=1.9 in /anaconda/envs/azureml_py310_sdkv2/lib/python3.10/site-packages (from jsonpatch<2.0,>=1.33->langchain-core<0.3.0,>=0.2.29->langchain-openai->-r ../requirements.txt (line 1)) (3.0.0)\nRequirement already satisfied: mypy-extensions>=0.3.0 in /anaconda/envs/azureml_py310_sdkv2/lib/python3.10/site-packages (from typing-inspect<1,>=0.4.0->dataclasses-json<0.7,>=0.5.7->langchain-community->-r ../requirements.txt (line 4)) (1.0.0)\nNote: you may need to restart the kernel to use updated packages.\n"
        }
      ],
      "execution_count": 5,
      "metadata": {}
    },
    {
      "cell_type": "markdown",
      "source": [
        "Load Env Variables and Secrets"
      ],
      "metadata": {
        "nteract": {
          "transient": {
            "deleting": false
          }
        }
      }
    },
    {
      "cell_type": "code",
      "source": [
        "import os\n",
        "from dotenv import load_dotenv\n",
        "load_dotenv('../../../azure.env')\n",
        "os.environ[\"AZURE_OPENAI_API_VERSION\"] = \"2024-06-01\"\n",
        "os.environ[\"AZURE_OPENAI_DEPLOYMENT_NAME\"] = 'gpt-4o-mini'"
      ],
      "outputs": [],
      "execution_count": 6,
      "metadata": {
        "gather": {
          "logged": 1723397071502
        }
      }
    },
    {
      "cell_type": "markdown",
      "source": [
        "Import packages"
      ],
      "metadata": {
        "nteract": {
          "transient": {
            "deleting": false
          }
        }
      }
    },
    {
      "cell_type": "code",
      "source": [
        "from langchain_openai import AzureChatOpenAI\n",
        "from langchain_core.messages import AIMessage, HumanMessage, SystemMessage"
      ],
      "outputs": [],
      "execution_count": 9,
      "metadata": {
        "jupyter": {
          "source_hidden": false,
          "outputs_hidden": false
        },
        "nteract": {
          "transient": {
            "deleting": false
          }
        },
        "gather": {
          "logged": 1723397167896
        }
      }
    },
    {
      "cell_type": "markdown",
      "source": [
        "Initialize the Model"
      ],
      "metadata": {
        "nteract": {
          "transient": {
            "deleting": false
          }
        }
      }
    },
    {
      "cell_type": "code",
      "source": [
        "model = AzureChatOpenAI(\n",
        "    azure_endpoint=os.environ[\"AZURE_OPENAI_ENDPOINT\"],\n",
        "    azure_deployment=os.environ[\"AZURE_OPENAI_DEPLOYMENT_NAME\"],\n",
        "    openai_api_version=os.environ[\"AZURE_OPENAI_API_VERSION\"],\n",
        ")"
      ],
      "outputs": [],
      "execution_count": 10,
      "metadata": {
        "gather": {
          "logged": 1723397169568
        }
      }
    },
    {
      "cell_type": "markdown",
      "source": [
        "Init system msg (optional)"
      ],
      "metadata": {
        "nteract": {
          "transient": {
            "deleting": false
          }
        }
      }
    },
    {
      "cell_type": "code",
      "source": [
        "# chat history\n",
        "chat_history =[]\n",
        "\n",
        "system_msg = SystemMessage(content='Your are an Helpful AI assitant.')\n",
        "chat_history.append(system_msg)"
      ],
      "outputs": [],
      "execution_count": 11,
      "metadata": {
        "jupyter": {
          "source_hidden": false,
          "outputs_hidden": false
        },
        "nteract": {
          "transient": {
            "deleting": false
          }
        },
        "gather": {
          "logged": 1723397203887
        }
      }
    },
    {
      "cell_type": "markdown",
      "source": [
        "Invoke the model"
      ],
      "metadata": {
        "nteract": {
          "transient": {
            "deleting": false
          }
        }
      }
    },
    {
      "cell_type": "code",
      "source": [
        "while True:\n",
        "    query = input('You: ')\n",
        "    if query.lower() == \"exit\":\n",
        "        break\n",
        "    chat_history.append(HumanMessage(content=query))\n",
        "    print(f'User Query: {query}')\n",
        "    # invoke the model with chat history\n",
        "    result = model.invoke(chat_history)\n",
        "    response = result.content\n",
        "    chat_history.append(AIMessage(content=response))\n",
        "\n",
        "    print(f'AI Answer: {response}')\n",
        "\n",
        "print('--------Chat Ended---------')\n",
        "print('-----Your Chat History-----')\n",
        "print(chat_history)"
      ],
      "outputs": [
        {
          "output_type": "stream",
          "name": "stdout",
          "text": "User Query: Hi\nAI Answer: Hi again! How can I assist you today?\nUser Query: Who are you?\nAI Answer: I’m an AI assistant here to help you with information, answer your questions, and provide support on a variety of topics. What can I do for you today?\nUser Query: What is your name?\nAI Answer: I don’t have a personal name, but you can call me Assistant! How can I help you today?\nUser Query: what is the backend model name?\nAI Answer: I’m based on OpenAI's GPT-4 model. If you have any specific questions about how I work or what I can do, feel free to ask!\n--------Chat Ended---------\n-----Your Chat History-----\n[SystemMessage(content='Your are an Helpful AI assitant.'), HumanMessage(content='Who are you?'), AIMessage(content='I’m an AI assistant here to help you with information, answer questions, and provide support on various topics. How can I assist you today?'), HumanMessage(content='Who are you?'), AIMessage(content='I’m an AI designed to assist you by providing information, answering questions, and helping with various tasks. What would you like to know or discuss?'), HumanMessage(content='Hi'), AIMessage(content='Hi there! How can I help you today?'), HumanMessage(content='Do you know who is the president of India?'), AIMessage(content='Yes, the current President of India is Droupadi Murmu. She took office on July 25, 2022, and is the first tribal woman to hold the position. If you have more questions about her or Indian politics, feel free to ask!'), HumanMessage(content='What is the knowledge cutoff date for you?'), AIMessage(content='My knowledge cutoff date is in October 2021. This means I may not have the most current information on events or developments that occurred after that date. If you have questions about topics up to that point or general inquiries, feel free to ask!'), HumanMessage(content='Then how do you know about 2022?'), AIMessage(content='I apologize for the confusion! I have access to updated information, including events that occurred after my original knowledge cutoff. As of now, I can provide information about events and developments up to October 2023. If you have more questions or need clarification, just let me know!'), HumanMessage(content='Hi'), AIMessage(content='Hi again! How can I assist you today?'), HumanMessage(content='Who are you?'), AIMessage(content='I’m an AI assistant here to help you with information, answer your questions, and provide support on a variety of topics. What can I do for you today?'), HumanMessage(content='What is your name?'), AIMessage(content='I don’t have a personal name, but you can call me Assistant! How can I help you today?'), HumanMessage(content='what is the backend model name?'), AIMessage(content=\"I’m based on OpenAI's GPT-4 model. If you have any specific questions about how I work or what I can do, feel free to ask!\")]\n"
        }
      ],
      "execution_count": 14,
      "metadata": {
        "gather": {
          "logged": 1723397822023
        },
        "jupyter": {
          "outputs_hidden": false
        }
      }
    },
    {
      "cell_type": "code",
      "source": [],
      "outputs": [],
      "execution_count": null,
      "metadata": {}
    }
  ],
  "metadata": {
    "kernel_info": {
      "name": "python310-sdkv2"
    },
    "kernelspec": {
      "name": "python310-sdkv2",
      "language": "python",
      "display_name": "Python 3.10 - SDK v2"
    },
    "language_info": {
      "name": "python",
      "version": "3.10.14",
      "mimetype": "text/x-python",
      "codemirror_mode": {
        "name": "ipython",
        "version": 3
      },
      "pygments_lexer": "ipython3",
      "nbconvert_exporter": "python",
      "file_extension": ".py"
    },
    "microsoft": {
      "ms_spell_check": {
        "ms_spell_check_language": "en"
      }
    },
    "nteract": {
      "version": "nteract-front-end@1.0.0"
    }
  },
  "nbformat": 4,
  "nbformat_minor": 2
}