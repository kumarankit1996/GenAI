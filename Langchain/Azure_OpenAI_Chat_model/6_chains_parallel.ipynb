{
  "cells": [
    {
      "cell_type": "code",
      "source": [
        "%pip install -r ../requirements.txt"
      ],
      "outputs": [
        {
          "output_type": "stream",
          "name": "stdout",
          "text": "Requirement already satisfied: langchain-openai==0.1.21 in /anaconda/envs/azureml_py310_sdkv2/lib/python3.10/site-packages (from -r ../requirements.txt (line 1)) (0.1.21)\nRequirement already satisfied: python-dotenv==1.0.1 in /anaconda/envs/azureml_py310_sdkv2/lib/python3.10/site-packages (from -r ../requirements.txt (line 2)) (1.0.1)\nCollecting langchain==0.2.13 (from -r ../requirements.txt (line 3))\n  Downloading langchain-0.2.13-py3-none-any.whl.metadata (7.1 kB)\nRequirement already satisfied: wikipedia==1.4.0 in /anaconda/envs/azureml_py310_sdkv2/lib/python3.10/site-packages (from -r ../requirements.txt (line 4)) (1.4.0)\nCollecting tavily-python==0.3.9 (from -r ../requirements.txt (line 5))\n  Downloading tavily_python-0.3.9-py3-none-any.whl.metadata (11 kB)\nRequirement already satisfied: langchain-core<0.3.0,>=0.2.29 in /anaconda/envs/azureml_py310_sdkv2/lib/python3.10/site-packages (from langchain-openai==0.1.21->-r ../requirements.txt (line 1)) (0.2.29)\nRequirement already satisfied: openai<2.0.0,>=1.40.0 in /anaconda/envs/azureml_py310_sdkv2/lib/python3.10/site-packages (from langchain-openai==0.1.21->-r ../requirements.txt (line 1)) (1.40.3)\nRequirement already satisfied: tiktoken<1,>=0.7 in /anaconda/envs/azureml_py310_sdkv2/lib/python3.10/site-packages (from langchain-openai==0.1.21->-r ../requirements.txt (line 1)) (0.7.0)\nRequirement already satisfied: PyYAML>=5.3 in /anaconda/envs/azureml_py310_sdkv2/lib/python3.10/site-packages (from langchain==0.2.13->-r ../requirements.txt (line 3)) (6.0.1)\nRequirement already satisfied: SQLAlchemy<3,>=1.4 in /anaconda/envs/azureml_py310_sdkv2/lib/python3.10/site-packages (from langchain==0.2.13->-r ../requirements.txt (line 3)) (2.0.30)\nRequirement already satisfied: aiohttp<4.0.0,>=3.8.3 in /anaconda/envs/azureml_py310_sdkv2/lib/python3.10/site-packages (from langchain==0.2.13->-r ../requirements.txt (line 3)) (3.10.3)\nRequirement already satisfied: async-timeout<5.0.0,>=4.0.0 in /anaconda/envs/azureml_py310_sdkv2/lib/python3.10/site-packages (from langchain==0.2.13->-r ../requirements.txt (line 3)) (4.0.3)\nCollecting langchain-core<0.3.0,>=0.2.29 (from langchain-openai==0.1.21->-r ../requirements.txt (line 1))\n  Downloading langchain_core-0.2.30-py3-none-any.whl.metadata (6.2 kB)\nRequirement already satisfied: langchain-text-splitters<0.3.0,>=0.2.0 in /anaconda/envs/azureml_py310_sdkv2/lib/python3.10/site-packages (from langchain==0.2.13->-r ../requirements.txt (line 3)) (0.2.2)\nRequirement already satisfied: langsmith<0.2.0,>=0.1.17 in /anaconda/envs/azureml_py310_sdkv2/lib/python3.10/site-packages (from langchain==0.2.13->-r ../requirements.txt (line 3)) (0.1.98)\nRequirement already satisfied: numpy<2,>=1 in /anaconda/envs/azureml_py310_sdkv2/lib/python3.10/site-packages (from langchain==0.2.13->-r ../requirements.txt (line 3)) (1.23.5)\nRequirement already satisfied: pydantic<3,>=1 in /anaconda/envs/azureml_py310_sdkv2/lib/python3.10/site-packages (from langchain==0.2.13->-r ../requirements.txt (line 3)) (2.8.2)\nRequirement already satisfied: requests<3,>=2 in /anaconda/envs/azureml_py310_sdkv2/lib/python3.10/site-packages (from langchain==0.2.13->-r ../requirements.txt (line 3)) (2.32.3)\nRequirement already satisfied: tenacity!=8.4.0,<9.0.0,>=8.1.0 in /anaconda/envs/azureml_py310_sdkv2/lib/python3.10/site-packages (from langchain==0.2.13->-r ../requirements.txt (line 3)) (8.5.0)\nRequirement already satisfied: beautifulsoup4 in /anaconda/envs/azureml_py310_sdkv2/lib/python3.10/site-packages (from wikipedia==1.4.0->-r ../requirements.txt (line 4)) (4.12.3)\nRequirement already satisfied: httpx in /anaconda/envs/azureml_py310_sdkv2/lib/python3.10/site-packages (from tavily-python==0.3.9->-r ../requirements.txt (line 5)) (0.27.0)\nRequirement already satisfied: aiohappyeyeballs>=2.3.0 in /anaconda/envs/azureml_py310_sdkv2/lib/python3.10/site-packages (from aiohttp<4.0.0,>=3.8.3->langchain==0.2.13->-r ../requirements.txt (line 3)) (2.3.5)\nRequirement already satisfied: aiosignal>=1.1.2 in /anaconda/envs/azureml_py310_sdkv2/lib/python3.10/site-packages (from aiohttp<4.0.0,>=3.8.3->langchain==0.2.13->-r ../requirements.txt (line 3)) (1.3.1)\nRequirement already satisfied: attrs>=17.3.0 in /anaconda/envs/azureml_py310_sdkv2/lib/python3.10/site-packages (from aiohttp<4.0.0,>=3.8.3->langchain==0.2.13->-r ../requirements.txt (line 3)) (23.2.0)\nRequirement already satisfied: frozenlist>=1.1.1 in /anaconda/envs/azureml_py310_sdkv2/lib/python3.10/site-packages (from aiohttp<4.0.0,>=3.8.3->langchain==0.2.13->-r ../requirements.txt (line 3)) (1.4.1)\nRequirement already satisfied: multidict<7.0,>=4.5 in /anaconda/envs/azureml_py310_sdkv2/lib/python3.10/site-packages (from aiohttp<4.0.0,>=3.8.3->langchain==0.2.13->-r ../requirements.txt (line 3)) (6.0.5)\nRequirement already satisfied: yarl<2.0,>=1.0 in /anaconda/envs/azureml_py310_sdkv2/lib/python3.10/site-packages (from aiohttp<4.0.0,>=3.8.3->langchain==0.2.13->-r ../requirements.txt (line 3)) (1.9.4)\nRequirement already satisfied: jsonpatch<2.0,>=1.33 in /anaconda/envs/azureml_py310_sdkv2/lib/python3.10/site-packages (from langchain-core<0.3.0,>=0.2.29->langchain-openai==0.1.21->-r ../requirements.txt (line 1)) (1.33)\nRequirement already satisfied: packaging<25,>=23.2 in /anaconda/envs/azureml_py310_sdkv2/lib/python3.10/site-packages (from langchain-core<0.3.0,>=0.2.29->langchain-openai==0.1.21->-r ../requirements.txt (line 1)) (24.0)\nRequirement already satisfied: typing-extensions>=4.7 in /anaconda/envs/azureml_py310_sdkv2/lib/python3.10/site-packages (from langchain-core<0.3.0,>=0.2.29->langchain-openai==0.1.21->-r ../requirements.txt (line 1)) (4.12.2)\nRequirement already satisfied: orjson<4.0.0,>=3.9.14 in /anaconda/envs/azureml_py310_sdkv2/lib/python3.10/site-packages (from langsmith<0.2.0,>=0.1.17->langchain==0.2.13->-r ../requirements.txt (line 3)) (3.10.7)\nRequirement already satisfied: anyio<5,>=3.5.0 in /anaconda/envs/azureml_py310_sdkv2/lib/python3.10/site-packages (from openai<2.0.0,>=1.40.0->langchain-openai==0.1.21->-r ../requirements.txt (line 1)) (4.4.0)\nRequirement already satisfied: distro<2,>=1.7.0 in /anaconda/envs/azureml_py310_sdkv2/lib/python3.10/site-packages (from openai<2.0.0,>=1.40.0->langchain-openai==0.1.21->-r ../requirements.txt (line 1)) (1.9.0)\nRequirement already satisfied: jiter<1,>=0.4.0 in /anaconda/envs/azureml_py310_sdkv2/lib/python3.10/site-packages (from openai<2.0.0,>=1.40.0->langchain-openai==0.1.21->-r ../requirements.txt (line 1)) (0.5.0)\nRequirement already satisfied: sniffio in /anaconda/envs/azureml_py310_sdkv2/lib/python3.10/site-packages (from openai<2.0.0,>=1.40.0->langchain-openai==0.1.21->-r ../requirements.txt (line 1)) (1.3.1)\nRequirement already satisfied: tqdm>4 in /anaconda/envs/azureml_py310_sdkv2/lib/python3.10/site-packages (from openai<2.0.0,>=1.40.0->langchain-openai==0.1.21->-r ../requirements.txt (line 1)) (4.66.4)\nRequirement already satisfied: certifi in /anaconda/envs/azureml_py310_sdkv2/lib/python3.10/site-packages (from httpx->tavily-python==0.3.9->-r ../requirements.txt (line 5)) (2024.6.2)\nRequirement already satisfied: httpcore==1.* in /anaconda/envs/azureml_py310_sdkv2/lib/python3.10/site-packages (from httpx->tavily-python==0.3.9->-r ../requirements.txt (line 5)) (1.0.5)\nRequirement already satisfied: idna in /anaconda/envs/azureml_py310_sdkv2/lib/python3.10/site-packages (from httpx->tavily-python==0.3.9->-r ../requirements.txt (line 5)) (3.7)\nRequirement already satisfied: h11<0.15,>=0.13 in /anaconda/envs/azureml_py310_sdkv2/lib/python3.10/site-packages (from httpcore==1.*->httpx->tavily-python==0.3.9->-r ../requirements.txt (line 5)) (0.14.0)\nRequirement already satisfied: annotated-types>=0.4.0 in /anaconda/envs/azureml_py310_sdkv2/lib/python3.10/site-packages (from pydantic<3,>=1->langchain==0.2.13->-r ../requirements.txt (line 3)) (0.7.0)\nRequirement already satisfied: pydantic-core==2.20.1 in /anaconda/envs/azureml_py310_sdkv2/lib/python3.10/site-packages (from pydantic<3,>=1->langchain==0.2.13->-r ../requirements.txt (line 3)) (2.20.1)\nRequirement already satisfied: charset-normalizer<4,>=2 in /anaconda/envs/azureml_py310_sdkv2/lib/python3.10/site-packages (from requests<3,>=2->langchain==0.2.13->-r ../requirements.txt (line 3)) (3.3.2)\nRequirement already satisfied: urllib3<3,>=1.21.1 in /anaconda/envs/azureml_py310_sdkv2/lib/python3.10/site-packages (from requests<3,>=2->langchain==0.2.13->-r ../requirements.txt (line 3)) (2.2.1)\nRequirement already satisfied: greenlet!=0.4.17 in /anaconda/envs/azureml_py310_sdkv2/lib/python3.10/site-packages (from SQLAlchemy<3,>=1.4->langchain==0.2.13->-r ../requirements.txt (line 3)) (3.0.3)\nRequirement already satisfied: regex>=2022.1.18 in /anaconda/envs/azureml_py310_sdkv2/lib/python3.10/site-packages (from tiktoken<1,>=0.7->langchain-openai==0.1.21->-r ../requirements.txt (line 1)) (2024.7.24)\nRequirement already satisfied: soupsieve>1.2 in /anaconda/envs/azureml_py310_sdkv2/lib/python3.10/site-packages (from beautifulsoup4->wikipedia==1.4.0->-r ../requirements.txt (line 4)) (2.5)\nRequirement already satisfied: exceptiongroup>=1.0.2 in /anaconda/envs/azureml_py310_sdkv2/lib/python3.10/site-packages (from anyio<5,>=3.5.0->openai<2.0.0,>=1.40.0->langchain-openai==0.1.21->-r ../requirements.txt (line 1)) (1.2.0)\nRequirement already satisfied: jsonpointer>=1.9 in /anaconda/envs/azureml_py310_sdkv2/lib/python3.10/site-packages (from jsonpatch<2.0,>=1.33->langchain-core<0.3.0,>=0.2.29->langchain-openai==0.1.21->-r ../requirements.txt (line 1)) (3.0.0)\nDownloading langchain-0.2.13-py3-none-any.whl (997 kB)\n\u001b[2K   \u001b[90m━━━━━━━━━━━━━━━━━━━━━━━━━━━━━━━━━━━━━━━━\u001b[0m \u001b[32m997.8/997.8 kB\u001b[0m \u001b[31m27.6 MB/s\u001b[0m eta \u001b[36m0:00:00\u001b[0m00:01\u001b[0m\n\u001b[?25hDownloading tavily_python-0.3.9-py3-none-any.whl (13 kB)\nDownloading langchain_core-0.2.30-py3-none-any.whl (384 kB)\n\u001b[2K   \u001b[90m━━━━━━━━━━━━━━━━━━━━━━━━━━━━━━━━━━━━━━━━\u001b[0m \u001b[32m384.8/384.8 kB\u001b[0m \u001b[31m21.5 MB/s\u001b[0m eta \u001b[36m0:00:00\u001b[0m\n\u001b[?25hInstalling collected packages: tavily-python, langchain-core, langchain\n  Attempting uninstall: tavily-python\n    Found existing installation: tavily-python 0.3.7\n    Uninstalling tavily-python-0.3.7:\n      Successfully uninstalled tavily-python-0.3.7\n  Attempting uninstall: langchain-core\n    Found existing installation: langchain-core 0.2.29\n    Uninstalling langchain-core-0.2.29:\n      Successfully uninstalled langchain-core-0.2.29\n  Attempting uninstall: langchain\n    Found existing installation: langchain 0.2.12\n    Uninstalling langchain-0.2.12:\n      Successfully uninstalled langchain-0.2.12\nSuccessfully installed langchain-0.2.13 langchain-core-0.2.30 tavily-python-0.3.9\nNote: you may need to restart the kernel to use updated packages.\n"
        }
      ],
      "execution_count": 2,
      "metadata": {}
    },
    {
      "cell_type": "markdown",
      "source": [
        "Load Env Variables and Secrets"
      ],
      "metadata": {
        "nteract": {
          "transient": {
            "deleting": false
          }
        }
      }
    },
    {
      "cell_type": "code",
      "source": [
        "import os\n",
        "from dotenv import load_dotenv\n",
        "load_dotenv('../../../azure.env')\n",
        "os.environ[\"AZURE_OPENAI_API_VERSION\"] = \"2024-06-01\"\n",
        "os.environ[\"AZURE_OPENAI_DEPLOYMENT_NAME\"] = 'gpt-4o-mini'"
      ],
      "outputs": [],
      "execution_count": 1,
      "metadata": {
        "gather": {
          "logged": 1723566124540
        }
      }
    },
    {
      "cell_type": "markdown",
      "source": [
        "Import packages"
      ],
      "metadata": {
        "nteract": {
          "transient": {
            "deleting": false
          }
        }
      }
    },
    {
      "cell_type": "code",
      "source": [
        "from langchain_openai import AzureChatOpenAI\n",
        "from langchain_core.messages import AIMessage, HumanMessage, SystemMessage\n",
        "from langchain.prompts import ChatPromptTemplate\n",
        "from langchain.schema.output_parser import StrOutputParser\n",
        "from langchain.schema.runnable import RunnableLambda,RunnableParallel"
      ],
      "outputs": [],
      "execution_count": 8,
      "metadata": {
        "jupyter": {
          "source_hidden": false,
          "outputs_hidden": false
        },
        "nteract": {
          "transient": {
            "deleting": false
          }
        },
        "gather": {
          "logged": 1723567095806
        }
      }
    },
    {
      "cell_type": "markdown",
      "source": [
        "Initialize the Model"
      ],
      "metadata": {
        "nteract": {
          "transient": {
            "deleting": false
          }
        }
      }
    },
    {
      "cell_type": "code",
      "source": [
        "model = AzureChatOpenAI(\n",
        "    azure_endpoint=os.environ[\"AZURE_OPENAI_ENDPOINT\"],\n",
        "    azure_deployment=os.environ[\"AZURE_OPENAI_DEPLOYMENT_NAME\"],\n",
        "    openai_api_version=os.environ[\"AZURE_OPENAI_API_VERSION\"],\n",
        ")"
      ],
      "outputs": [],
      "execution_count": 3,
      "metadata": {
        "gather": {
          "logged": 1723566129234
        }
      }
    },
    {
      "cell_type": "markdown",
      "source": [
        "Define the Prompt Templates"
      ],
      "metadata": {
        "nteract": {
          "transient": {
            "deleting": false
          }
        }
      }
    },
    {
      "cell_type": "code",
      "source": [
        "prompt_template = ChatPromptTemplate.from_messages(\n",
        "    [\n",
        "        (\"system\",\"You are an expert product reviewer\"),\n",
        "        (\"human\",\"List all the features of the product {product_name}.\")\n",
        "    ]\n",
        ")\n",
        "\n",
        "# pro analysis function\n",
        "def analysis_pros(features):\n",
        "    pros_template = ChatPromptTemplate.from_messages(\n",
        "        [\n",
        "            (\"system\",\"You are an expert product reviewer\"),\n",
        "            (\"human\",\"Given these features: {features}, list the top 5 pros features\")\n",
        "        ]\n",
        "    )\n",
        "    return pros_template.format_prompt(features=features)\n",
        "\n",
        "# cons analysis function\n",
        "def analysis_cons(features):\n",
        "    cons_template = ChatPromptTemplate.from_messages(\n",
        "        [\n",
        "            (\"system\",\"You are an expert product reviewer\"),\n",
        "            (\"human\",\"Given these features: {features}, list the top 5 cons features\")\n",
        "        ]\n",
        "    )\n",
        "    return cons_template.format_prompt(features=features)\n",
        "\n",
        "# combine pros and cons\n",
        "def combine_pros_cons(pros,cons):\n",
        "    return f'Pros:\\n{pros}\\n\\nCons:\\n{cons}'"
      ],
      "outputs": [],
      "execution_count": 7,
      "metadata": {
        "jupyter": {
          "source_hidden": false,
          "outputs_hidden": false
        },
        "nteract": {
          "transient": {
            "deleting": false
          }
        },
        "gather": {
          "logged": 1723567026259
        }
      }
    },
    {
      "cell_type": "markdown",
      "source": [
        "Chains"
      ],
      "metadata": {
        "nteract": {
          "transient": {
            "deleting": false
          }
        }
      }
    },
    {
      "cell_type": "code",
      "source": [
        "pros_chain = (\n",
        "    RunnableLambda(lambda x:analysis_pros(x)) | model | StrOutputParser()\n",
        ")\n",
        "\n",
        "cons_chain = (\n",
        "    RunnableLambda(lambda x:analysis_cons(x)) | model | StrOutputParser()\n",
        ")\n",
        "\n",
        "# final chain\n",
        "\n",
        "chain = (\n",
        "    prompt_template\n",
        "    | model\n",
        "    | StrOutputParser()\n",
        "    | RunnableParallel(branches={'pros':pros_chain,'cons':cons_chain})\n",
        "    | RunnableLambda(lambda x: combine_pros_cons(x['branches']['pros'],x['branches']['cons']))\n",
        ")\n",
        "result = chain.invoke({'product_name':\"Mackbook Pro\"})\n",
        "print(result)"
      ],
      "outputs": [
        {
          "output_type": "stream",
          "name": "stdout",
          "text": "Pros:\nBased on the features provided for the latest MacBook Pro models, here are the top five pro features:\n\n1. **Apple Silicon Performance**:\n   - The custom Apple Silicon chips (M1, M2, etc.) offer exceptional performance and efficiency, making tasks like video editing, software development, and graphic design seamless and responsive.\n\n2. **Retina Display with True Tone**:\n   - The high-resolution Retina Display enhances visuals with True Tone technology and wide color (P3) support, making it ideal for creative professionals who require accurate color representation.\n\n3. **Long Battery Life**:\n   - With up to 20 hours of web browsing or video playback, the MacBook Pro provides impressive battery longevity, allowing users to work for extended periods without needing to recharge.\n\n4. **Thunderbolt/USB 4 Ports**:\n   - The inclusion of multiple Thunderbolt/USB 4 ports facilitates high-speed data transfer and a wide range of connectivity options, making it easier to connect peripherals and external displays.\n\n5. **High-Fidelity Audio and Studio-Quality Microphones**:\n   - The enhanced audio system with high-fidelity speakers and improved microphones ensures superior sound quality for music, video playback, and online meetings, catering to content creators and professionals alike.\n\nThese features collectively enhance the MacBook Pro's appeal, especially for professionals who demand high performance and versatility from their devices.\n\nCons:\nHere are the top 5 cons of the latest MacBook Pro models based on the provided features:\n\n1. **Limited Port Variety**:\n   - While the inclusion of Thunderbolt/USB 4 ports provides high-speed connectivity, the lack of traditional USB-A, Ethernet, or dedicated audio jacks may require users to invest in additional adapters or hubs.\n\n2. **High Price Point**:\n   - The MacBook Pro is typically more expensive than many competing laptops with similar specifications, making it less accessible for budget-conscious consumers.\n\n3. **Touch Bar Controversy**:\n   - The Touch Bar, while innovative, has received mixed reviews. Some users find it unnecessary or prefer traditional function keys, leading to frustration for those who rely on specific shortcuts.\n\n4. **Limited Upgradeability**:\n   - The unified memory architecture and soldered components restrict users from upgrading RAM or storage after purchase, which can be a drawback for those looking to extend the life of their device.\n\n5. **Software Ecosystem Dependency**:\n   - While macOS offers a range of productivity and creative tools, users who rely on specific Windows-based applications may find compatibility issues or need to use virtualization software, which can impact performance. \n\nThese cons can vary in significance depending on individual needs and preferences, but they are noteworthy considerations for potential buyers.\n"
        }
      ],
      "execution_count": 10,
      "metadata": {
        "jupyter": {
          "source_hidden": false,
          "outputs_hidden": false
        },
        "nteract": {
          "transient": {
            "deleting": false
          }
        },
        "gather": {
          "logged": 1723567299373
        }
      }
    },
    {
      "cell_type": "code",
      "source": [],
      "outputs": [],
      "execution_count": null,
      "metadata": {
        "jupyter": {
          "source_hidden": false,
          "outputs_hidden": false
        },
        "nteract": {
          "transient": {
            "deleting": false
          }
        }
      }
    }
  ],
  "metadata": {
    "kernel_info": {
      "name": "python310-sdkv2"
    },
    "kernelspec": {
      "name": "python310-sdkv2",
      "language": "python",
      "display_name": "Python 3.10 - SDK v2"
    },
    "language_info": {
      "name": "python",
      "version": "3.10.14",
      "mimetype": "text/x-python",
      "codemirror_mode": {
        "name": "ipython",
        "version": 3
      },
      "pygments_lexer": "ipython3",
      "nbconvert_exporter": "python",
      "file_extension": ".py"
    },
    "microsoft": {
      "ms_spell_check": {
        "ms_spell_check_language": "en"
      },
      "host": {
        "AzureML": {
          "notebookHasBeenCompleted": true
        }
      }
    },
    "nteract": {
      "version": "nteract-front-end@1.0.0"
    }
  },
  "nbformat": 4,
  "nbformat_minor": 2
}