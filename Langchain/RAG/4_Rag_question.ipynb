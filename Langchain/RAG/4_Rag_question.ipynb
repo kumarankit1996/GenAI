{
  "cells": [
    {
      "cell_type": "code",
      "source": [
        "%pip install -r ../requirements.txt"
      ],
      "outputs": [
        {
          "output_type": "stream",
          "name": "stdout",
          "text": "Requirement already satisfied: langchain-openai in /anaconda/envs/azureml_py310_sdkv2/lib/python3.10/site-packages (from -r ../requirements.txt (line 1)) (0.1.21)\nRequirement already satisfied: python-dotenv==1.0.1 in /anaconda/envs/azureml_py310_sdkv2/lib/python3.10/site-packages (from -r ../requirements.txt (line 2)) (1.0.1)\nRequirement already satisfied: langchain in /anaconda/envs/azureml_py310_sdkv2/lib/python3.10/site-packages (from -r ../requirements.txt (line 3)) (0.2.13)\nRequirement already satisfied: wikipedia==1.4.0 in /anaconda/envs/azureml_py310_sdkv2/lib/python3.10/site-packages (from -r ../requirements.txt (line 4)) (1.4.0)\nRequirement already satisfied: tavily-python in /anaconda/envs/azureml_py310_sdkv2/lib/python3.10/site-packages (from -r ../requirements.txt (line 5)) (0.3.9)\nRequirement already satisfied: sentence-transformers in /anaconda/envs/azureml_py310_sdkv2/lib/python3.10/site-packages (from -r ../requirements.txt (line 6)) (3.0.1)\nRequirement already satisfied: tqdm in /anaconda/envs/azureml_py310_sdkv2/lib/python3.10/site-packages (from -r ../requirements.txt (line 7)) (4.66.4)\nRequirement already satisfied: beautifulsoup4 in /anaconda/envs/azureml_py310_sdkv2/lib/python3.10/site-packages (from wikipedia==1.4.0->-r ../requirements.txt (line 4)) (4.12.3)\nRequirement already satisfied: requests<3.0.0,>=2.0.0 in /anaconda/envs/azureml_py310_sdkv2/lib/python3.10/site-packages (from wikipedia==1.4.0->-r ../requirements.txt (line 4)) (2.32.3)\nRequirement already satisfied: langchain-core<0.3.0,>=0.2.29 in /anaconda/envs/azureml_py310_sdkv2/lib/python3.10/site-packages (from langchain-openai->-r ../requirements.txt (line 1)) (0.2.30)\nRequirement already satisfied: openai<2.0.0,>=1.40.0 in /anaconda/envs/azureml_py310_sdkv2/lib/python3.10/site-packages (from langchain-openai->-r ../requirements.txt (line 1)) (1.40.3)\nRequirement already satisfied: tiktoken<1,>=0.7 in /anaconda/envs/azureml_py310_sdkv2/lib/python3.10/site-packages (from langchain-openai->-r ../requirements.txt (line 1)) (0.7.0)\nRequirement already satisfied: PyYAML>=5.3 in /anaconda/envs/azureml_py310_sdkv2/lib/python3.10/site-packages (from langchain->-r ../requirements.txt (line 3)) (6.0.1)\nRequirement already satisfied: SQLAlchemy<3,>=1.4 in /anaconda/envs/azureml_py310_sdkv2/lib/python3.10/site-packages (from langchain->-r ../requirements.txt (line 3)) (2.0.30)\nRequirement already satisfied: aiohttp<4.0.0,>=3.8.3 in /anaconda/envs/azureml_py310_sdkv2/lib/python3.10/site-packages (from langchain->-r ../requirements.txt (line 3)) (3.10.3)\nRequirement already satisfied: async-timeout<5.0.0,>=4.0.0 in /anaconda/envs/azureml_py310_sdkv2/lib/python3.10/site-packages (from langchain->-r ../requirements.txt (line 3)) (4.0.3)\nRequirement already satisfied: langchain-text-splitters<0.3.0,>=0.2.0 in /anaconda/envs/azureml_py310_sdkv2/lib/python3.10/site-packages (from langchain->-r ../requirements.txt (line 3)) (0.2.2)\nRequirement already satisfied: langsmith<0.2.0,>=0.1.17 in /anaconda/envs/azureml_py310_sdkv2/lib/python3.10/site-packages (from langchain->-r ../requirements.txt (line 3)) (0.1.98)\nRequirement already satisfied: numpy<2,>=1 in /anaconda/envs/azureml_py310_sdkv2/lib/python3.10/site-packages (from langchain->-r ../requirements.txt (line 3)) (1.23.5)\nRequirement already satisfied: pydantic<3,>=1 in /anaconda/envs/azureml_py310_sdkv2/lib/python3.10/site-packages (from langchain->-r ../requirements.txt (line 3)) (2.8.2)\nRequirement already satisfied: tenacity!=8.4.0,<9.0.0,>=8.1.0 in /anaconda/envs/azureml_py310_sdkv2/lib/python3.10/site-packages (from langchain->-r ../requirements.txt (line 3)) (8.5.0)\nRequirement already satisfied: httpx in /anaconda/envs/azureml_py310_sdkv2/lib/python3.10/site-packages (from tavily-python->-r ../requirements.txt (line 5)) (0.27.0)\nRequirement already satisfied: transformers<5.0.0,>=4.34.0 in /anaconda/envs/azureml_py310_sdkv2/lib/python3.10/site-packages (from sentence-transformers->-r ../requirements.txt (line 6)) (4.44.2)\nRequirement already satisfied: torch>=1.11.0 in /anaconda/envs/azureml_py310_sdkv2/lib/python3.10/site-packages (from sentence-transformers->-r ../requirements.txt (line 6)) (2.4.1)\nRequirement already satisfied: scikit-learn in /anaconda/envs/azureml_py310_sdkv2/lib/python3.10/site-packages (from sentence-transformers->-r ../requirements.txt (line 6)) (1.5.0)\nRequirement already satisfied: scipy in /anaconda/envs/azureml_py310_sdkv2/lib/python3.10/site-packages (from sentence-transformers->-r ../requirements.txt (line 6)) (1.13.1)\nRequirement already satisfied: huggingface-hub>=0.15.1 in /anaconda/envs/azureml_py310_sdkv2/lib/python3.10/site-packages (from sentence-transformers->-r ../requirements.txt (line 6)) (0.24.6)\nRequirement already satisfied: Pillow in /anaconda/envs/azureml_py310_sdkv2/lib/python3.10/site-packages (from sentence-transformers->-r ../requirements.txt (line 6)) (10.3.0)\nRequirement already satisfied: aiohappyeyeballs>=2.3.0 in /anaconda/envs/azureml_py310_sdkv2/lib/python3.10/site-packages (from aiohttp<4.0.0,>=3.8.3->langchain->-r ../requirements.txt (line 3)) (2.3.5)\nRequirement already satisfied: aiosignal>=1.1.2 in /anaconda/envs/azureml_py310_sdkv2/lib/python3.10/site-packages (from aiohttp<4.0.0,>=3.8.3->langchain->-r ../requirements.txt (line 3)) (1.3.1)\nRequirement already satisfied: attrs>=17.3.0 in /anaconda/envs/azureml_py310_sdkv2/lib/python3.10/site-packages (from aiohttp<4.0.0,>=3.8.3->langchain->-r ../requirements.txt (line 3)) (23.2.0)\nRequirement already satisfied: frozenlist>=1.1.1 in /anaconda/envs/azureml_py310_sdkv2/lib/python3.10/site-packages (from aiohttp<4.0.0,>=3.8.3->langchain->-r ../requirements.txt (line 3)) (1.4.1)\nRequirement already satisfied: multidict<7.0,>=4.5 in /anaconda/envs/azureml_py310_sdkv2/lib/python3.10/site-packages (from aiohttp<4.0.0,>=3.8.3->langchain->-r ../requirements.txt (line 3)) (6.0.5)\nRequirement already satisfied: yarl<2.0,>=1.0 in /anaconda/envs/azureml_py310_sdkv2/lib/python3.10/site-packages (from aiohttp<4.0.0,>=3.8.3->langchain->-r ../requirements.txt (line 3)) (1.9.4)\nRequirement already satisfied: filelock in /anaconda/envs/azureml_py310_sdkv2/lib/python3.10/site-packages (from huggingface-hub>=0.15.1->sentence-transformers->-r ../requirements.txt (line 6)) (3.14.0)\nRequirement already satisfied: fsspec>=2023.5.0 in /anaconda/envs/azureml_py310_sdkv2/lib/python3.10/site-packages (from huggingface-hub>=0.15.1->sentence-transformers->-r ../requirements.txt (line 6)) (2023.10.0)\nRequirement already satisfied: packaging>=20.9 in /anaconda/envs/azureml_py310_sdkv2/lib/python3.10/site-packages (from huggingface-hub>=0.15.1->sentence-transformers->-r ../requirements.txt (line 6)) (24.0)\nRequirement already satisfied: typing-extensions>=3.7.4.3 in /anaconda/envs/azureml_py310_sdkv2/lib/python3.10/site-packages (from huggingface-hub>=0.15.1->sentence-transformers->-r ../requirements.txt (line 6)) (4.12.2)\nRequirement already satisfied: jsonpatch<2.0,>=1.33 in /anaconda/envs/azureml_py310_sdkv2/lib/python3.10/site-packages (from langchain-core<0.3.0,>=0.2.29->langchain-openai->-r ../requirements.txt (line 1)) (1.33)\nRequirement already satisfied: orjson<4.0.0,>=3.9.14 in /anaconda/envs/azureml_py310_sdkv2/lib/python3.10/site-packages (from langsmith<0.2.0,>=0.1.17->langchain->-r ../requirements.txt (line 3)) (3.10.7)\nRequirement already satisfied: anyio<5,>=3.5.0 in /anaconda/envs/azureml_py310_sdkv2/lib/python3.10/site-packages (from openai<2.0.0,>=1.40.0->langchain-openai->-r ../requirements.txt (line 1)) (4.4.0)\nRequirement already satisfied: distro<2,>=1.7.0 in /anaconda/envs/azureml_py310_sdkv2/lib/python3.10/site-packages (from openai<2.0.0,>=1.40.0->langchain-openai->-r ../requirements.txt (line 1)) (1.9.0)\nRequirement already satisfied: jiter<1,>=0.4.0 in /anaconda/envs/azureml_py310_sdkv2/lib/python3.10/site-packages (from openai<2.0.0,>=1.40.0->langchain-openai->-r ../requirements.txt (line 1)) (0.5.0)\nRequirement already satisfied: sniffio in /anaconda/envs/azureml_py310_sdkv2/lib/python3.10/site-packages (from openai<2.0.0,>=1.40.0->langchain-openai->-r ../requirements.txt (line 1)) (1.3.1)\nRequirement already satisfied: certifi in /anaconda/envs/azureml_py310_sdkv2/lib/python3.10/site-packages (from httpx->tavily-python->-r ../requirements.txt (line 5)) (2024.6.2)\nRequirement already satisfied: httpcore==1.* in /anaconda/envs/azureml_py310_sdkv2/lib/python3.10/site-packages (from httpx->tavily-python->-r ../requirements.txt (line 5)) (1.0.5)\nRequirement already satisfied: idna in /anaconda/envs/azureml_py310_sdkv2/lib/python3.10/site-packages (from httpx->tavily-python->-r ../requirements.txt (line 5)) (3.7)\nRequirement already satisfied: h11<0.15,>=0.13 in /anaconda/envs/azureml_py310_sdkv2/lib/python3.10/site-packages (from httpcore==1.*->httpx->tavily-python->-r ../requirements.txt (line 5)) (0.14.0)\nRequirement already satisfied: annotated-types>=0.4.0 in /anaconda/envs/azureml_py310_sdkv2/lib/python3.10/site-packages (from pydantic<3,>=1->langchain->-r ../requirements.txt (line 3)) (0.7.0)\nRequirement already satisfied: pydantic-core==2.20.1 in /anaconda/envs/azureml_py310_sdkv2/lib/python3.10/site-packages (from pydantic<3,>=1->langchain->-r ../requirements.txt (line 3)) (2.20.1)\nRequirement already satisfied: charset-normalizer<4,>=2 in /anaconda/envs/azureml_py310_sdkv2/lib/python3.10/site-packages (from requests<3.0.0,>=2.0.0->wikipedia==1.4.0->-r ../requirements.txt (line 4)) (3.3.2)\nRequirement already satisfied: urllib3<3,>=1.21.1 in /anaconda/envs/azureml_py310_sdkv2/lib/python3.10/site-packages (from requests<3.0.0,>=2.0.0->wikipedia==1.4.0->-r ../requirements.txt (line 4)) (2.2.1)\nRequirement already satisfied: greenlet!=0.4.17 in /anaconda/envs/azureml_py310_sdkv2/lib/python3.10/site-packages (from SQLAlchemy<3,>=1.4->langchain->-r ../requirements.txt (line 3)) (3.0.3)\nRequirement already satisfied: regex>=2022.1.18 in /anaconda/envs/azureml_py310_sdkv2/lib/python3.10/site-packages (from tiktoken<1,>=0.7->langchain-openai->-r ../requirements.txt (line 1)) (2024.7.24)\nRequirement already satisfied: sympy in /anaconda/envs/azureml_py310_sdkv2/lib/python3.10/site-packages (from torch>=1.11.0->sentence-transformers->-r ../requirements.txt (line 6)) (1.13.2)\nRequirement already satisfied: networkx in /anaconda/envs/azureml_py310_sdkv2/lib/python3.10/site-packages (from torch>=1.11.0->sentence-transformers->-r ../requirements.txt (line 6)) (3.3)\nRequirement already satisfied: jinja2 in /anaconda/envs/azureml_py310_sdkv2/lib/python3.10/site-packages (from torch>=1.11.0->sentence-transformers->-r ../requirements.txt (line 6)) (3.1.4)\nRequirement already satisfied: nvidia-cuda-nvrtc-cu12==12.1.105 in /anaconda/envs/azureml_py310_sdkv2/lib/python3.10/site-packages (from torch>=1.11.0->sentence-transformers->-r ../requirements.txt (line 6)) (12.1.105)\nRequirement already satisfied: nvidia-cuda-runtime-cu12==12.1.105 in /anaconda/envs/azureml_py310_sdkv2/lib/python3.10/site-packages (from torch>=1.11.0->sentence-transformers->-r ../requirements.txt (line 6)) (12.1.105)\nRequirement already satisfied: nvidia-cuda-cupti-cu12==12.1.105 in /anaconda/envs/azureml_py310_sdkv2/lib/python3.10/site-packages (from torch>=1.11.0->sentence-transformers->-r ../requirements.txt (line 6)) (12.1.105)\nRequirement already satisfied: nvidia-cudnn-cu12==9.1.0.70 in /anaconda/envs/azureml_py310_sdkv2/lib/python3.10/site-packages (from torch>=1.11.0->sentence-transformers->-r ../requirements.txt (line 6)) (9.1.0.70)\nRequirement already satisfied: nvidia-cublas-cu12==12.1.3.1 in /anaconda/envs/azureml_py310_sdkv2/lib/python3.10/site-packages (from torch>=1.11.0->sentence-transformers->-r ../requirements.txt (line 6)) (12.1.3.1)\nRequirement already satisfied: nvidia-cufft-cu12==11.0.2.54 in /anaconda/envs/azureml_py310_sdkv2/lib/python3.10/site-packages (from torch>=1.11.0->sentence-transformers->-r ../requirements.txt (line 6)) (11.0.2.54)\nRequirement already satisfied: nvidia-curand-cu12==10.3.2.106 in /anaconda/envs/azureml_py310_sdkv2/lib/python3.10/site-packages (from torch>=1.11.0->sentence-transformers->-r ../requirements.txt (line 6)) (10.3.2.106)\nRequirement already satisfied: nvidia-cusolver-cu12==11.4.5.107 in /anaconda/envs/azureml_py310_sdkv2/lib/python3.10/site-packages (from torch>=1.11.0->sentence-transformers->-r ../requirements.txt (line 6)) (11.4.5.107)\nRequirement already satisfied: nvidia-cusparse-cu12==12.1.0.106 in /anaconda/envs/azureml_py310_sdkv2/lib/python3.10/site-packages (from torch>=1.11.0->sentence-transformers->-r ../requirements.txt (line 6)) (12.1.0.106)\nRequirement already satisfied: nvidia-nccl-cu12==2.20.5 in /anaconda/envs/azureml_py310_sdkv2/lib/python3.10/site-packages (from torch>=1.11.0->sentence-transformers->-r ../requirements.txt (line 6)) (2.20.5)\nRequirement already satisfied: nvidia-nvtx-cu12==12.1.105 in /anaconda/envs/azureml_py310_sdkv2/lib/python3.10/site-packages (from torch>=1.11.0->sentence-transformers->-r ../requirements.txt (line 6)) (12.1.105)\nRequirement already satisfied: triton==3.0.0 in /anaconda/envs/azureml_py310_sdkv2/lib/python3.10/site-packages (from torch>=1.11.0->sentence-transformers->-r ../requirements.txt (line 6)) (3.0.0)\nRequirement already satisfied: nvidia-nvjitlink-cu12 in /anaconda/envs/azureml_py310_sdkv2/lib/python3.10/site-packages (from nvidia-cusolver-cu12==11.4.5.107->torch>=1.11.0->sentence-transformers->-r ../requirements.txt (line 6)) (12.6.68)\nRequirement already satisfied: safetensors>=0.4.1 in /anaconda/envs/azureml_py310_sdkv2/lib/python3.10/site-packages (from transformers<5.0.0,>=4.34.0->sentence-transformers->-r ../requirements.txt (line 6)) (0.4.5)\nRequirement already satisfied: tokenizers<0.20,>=0.19 in /anaconda/envs/azureml_py310_sdkv2/lib/python3.10/site-packages (from transformers<5.0.0,>=4.34.0->sentence-transformers->-r ../requirements.txt (line 6)) (0.19.1)\nRequirement already satisfied: soupsieve>1.2 in /anaconda/envs/azureml_py310_sdkv2/lib/python3.10/site-packages (from beautifulsoup4->wikipedia==1.4.0->-r ../requirements.txt (line 4)) (2.5)\nRequirement already satisfied: joblib>=1.2.0 in /anaconda/envs/azureml_py310_sdkv2/lib/python3.10/site-packages (from scikit-learn->sentence-transformers->-r ../requirements.txt (line 6)) (1.4.2)\nRequirement already satisfied: threadpoolctl>=3.1.0 in /anaconda/envs/azureml_py310_sdkv2/lib/python3.10/site-packages (from scikit-learn->sentence-transformers->-r ../requirements.txt (line 6)) (3.5.0)\nRequirement already satisfied: exceptiongroup>=1.0.2 in /anaconda/envs/azureml_py310_sdkv2/lib/python3.10/site-packages (from anyio<5,>=3.5.0->openai<2.0.0,>=1.40.0->langchain-openai->-r ../requirements.txt (line 1)) (1.2.0)\nRequirement already satisfied: jsonpointer>=1.9 in /anaconda/envs/azureml_py310_sdkv2/lib/python3.10/site-packages (from jsonpatch<2.0,>=1.33->langchain-core<0.3.0,>=0.2.29->langchain-openai->-r ../requirements.txt (line 1)) (3.0.0)\nRequirement already satisfied: MarkupSafe>=2.0 in /anaconda/envs/azureml_py310_sdkv2/lib/python3.10/site-packages (from jinja2->torch>=1.11.0->sentence-transformers->-r ../requirements.txt (line 6)) (2.1.5)\nRequirement already satisfied: mpmath<1.4,>=1.1.0 in /anaconda/envs/azureml_py310_sdkv2/lib/python3.10/site-packages (from sympy->torch>=1.11.0->sentence-transformers->-r ../requirements.txt (line 6)) (1.3.0)\nNote: you may need to restart the kernel to use updated packages.\n"
        }
      ],
      "execution_count": 1,
      "metadata": {}
    },
    {
      "cell_type": "markdown",
      "source": [
        "Load Env Variables and Secrets"
      ],
      "metadata": {
        "nteract": {
          "transient": {
            "deleting": false
          }
        }
      }
    },
    {
      "cell_type": "code",
      "source": [
        "import os\n",
        "from dotenv import load_dotenv\n",
        "load_dotenv('../../../azure.env')\n",
        "os.environ[\"AZURE_OPENAI_API_VERSION\"] = \"2024-06-01\"\n",
        "os.environ[\"AZURE_OPENAI_DEPLOYMENT_NAME\"] = 'gpt-4o-mini'\n",
        "os.environ[\"AZURE_OPENAI_MODEL_VERSION\"] = '2024-06-01'\n"
      ],
      "outputs": [],
      "execution_count": 1,
      "metadata": {
        "gather": {
          "logged": 1727554071132
        }
      }
    },
    {
      "cell_type": "markdown",
      "source": [
        "Import packages"
      ],
      "metadata": {
        "nteract": {
          "transient": {
            "deleting": false
          }
        }
      }
    },
    {
      "cell_type": "code",
      "source": [
        "from langchain_openai import AzureChatOpenAI\n",
        "from langchain_core.messages import AIMessage, HumanMessage, SystemMessage\n",
        "from langchain.prompts import ChatPromptTemplate\n",
        "from langchain.schema.output_parser import StrOutputParser\n",
        "from langchain.text_splitter import CharacterTextSplitter, RecursiveCharacterTextSplitter\n",
        "from langchain_community.document_loaders import TextLoader\n",
        "from langchain_core.vectorstores import InMemoryVectorStore"
      ],
      "outputs": [],
      "execution_count": 2,
      "metadata": {
        "jupyter": {
          "source_hidden": false,
          "outputs_hidden": false
        },
        "nteract": {
          "transient": {
            "deleting": false
          }
        },
        "gather": {
          "logged": 1727554073183
        }
      }
    },
    {
      "cell_type": "markdown",
      "source": [
        "Initialize the Model"
      ],
      "metadata": {
        "nteract": {
          "transient": {
            "deleting": false
          }
        }
      }
    },
    {
      "cell_type": "code",
      "source": [
        "model = AzureChatOpenAI(\n",
        "    azure_endpoint=os.environ[\"AZURE_OPENAI_ENDPOINT\"],\n",
        "    azure_deployment=os.environ[\"AZURE_OPENAI_DEPLOYMENT_NAME\"],\n",
        "    openai_api_version=os.environ[\"AZURE_OPENAI_API_VERSION\"],\n",
        "    model_version=os.environ['AZURE_OPENAI_MODEL_VERSION']\n",
        ")"
      ],
      "outputs": [],
      "execution_count": 3,
      "metadata": {
        "gather": {
          "logged": 1727554073761
        }
      }
    },
    {
      "cell_type": "code",
      "source": [
        "from langchain_openai import AzureOpenAIEmbeddings\n",
        "\n",
        "embeddings = AzureOpenAIEmbeddings(\n",
        "    model=\"text-embedding-3-small\",\n",
        "    openai_api_version=os.environ[\"AZURE_OPENAI_API_VERSION\"],\n",
        "    # dimensions: Optional[int] = None, # Can specify dimensions with new text-embedding-3 models\n",
        "    # azure_endpoint=\"https://<your-endpoint>.openai.azure.com/\", If not provided, will read env variable AZURE_OPENAI_ENDPOINT\n",
        "    # api_key=... # Can provide an API key directly. If missing read env variable AZURE_OPENAI_API_KEY\n",
        "    # openai_api_version=..., # If not provided, will read env variable AZURE_OPENAI_API_VERSION\n",
        ")"
      ],
      "outputs": [],
      "execution_count": 4,
      "metadata": {
        "jupyter": {
          "source_hidden": false,
          "outputs_hidden": false
        },
        "nteract": {
          "transient": {
            "deleting": false
          }
        },
        "gather": {
          "logged": 1727554076128
        }
      }
    },
    {
      "cell_type": "code",
      "source": [
        "# Define the directory containing the text file and the persistent directory\n",
        "current_dir = os.path.dirname(os.path.commonpath('.'))\n",
        "books_dir = os.path.join(current_dir, \"books_small\")\n",
        "print(f\"Books directory: {books_dir}\")"
      ],
      "outputs": [
        {
          "output_type": "stream",
          "name": "stdout",
          "text": "Books directory: books_small\n"
        }
      ],
      "execution_count": 5,
      "metadata": {
        "jupyter": {
          "source_hidden": false,
          "outputs_hidden": false
        },
        "nteract": {
          "transient": {
            "deleting": false
          }
        },
        "gather": {
          "logged": 1727554076651
        }
      }
    },
    {
      "cell_type": "code",
      "source": [
        "# Ensure the books directory exists\n",
        "if not os.path.exists(books_dir):\n",
        "    raise FileNotFoundError(\n",
        "        f\"The directory {books_dir} does not exist. Please check the path.\"\n",
        "    )\n",
        "\n",
        "# List all text files in the directory\n",
        "book_files = [f for f in os.listdir(books_dir) if f.endswith(\".txt\")]\n",
        "\n",
        "# Read the text content from each file and store it with metadata\n",
        "documents = []\n",
        "for book_file in book_files:\n",
        "    file_path = os.path.join(books_dir, book_file)\n",
        "    loader = TextLoader(file_path)\n",
        "    book_docs = loader.load()\n",
        "    for doc in book_docs:\n",
        "        # Add metadata to each document indicating its source\n",
        "        doc.metadata = {\"source\": book_file}\n",
        "        documents.append(doc)\n",
        "\n",
        "# Split the documents into chunks\n",
        "text_splitter = RecursiveCharacterTextSplitter(chunk_size=4000, chunk_overlap=50)\n",
        "docs = text_splitter.split_documents(documents)\n",
        "\n",
        "# Display information about the split documents\n",
        "print(\"\\n--- Document Chunks Information ---\")\n",
        "print(f\"Number of document chunks: {len(docs)}\")\n",
        "\n",
        "# Create the vector store and persist it automatically\n",
        "print(\"\\n--- Creating vector store ---\")\n",
        "vectorstore = InMemoryVectorStore.from_documents(\n",
        "    documents=docs,\n",
        "    embedding=embeddings,\n",
        ")\n",
        "print(\"\\n--- Finished creating vector store ---\")"
      ],
      "outputs": [
        {
          "output_type": "stream",
          "name": "stdout",
          "text": "\n--- Document Chunks Information ---\nNumber of document chunks: 238\n\n--- Creating vector store ---\n\n--- Finished creating vector store ---\n"
        }
      ],
      "execution_count": 6,
      "metadata": {
        "jupyter": {
          "source_hidden": false,
          "outputs_hidden": false
        },
        "nteract": {
          "transient": {
            "deleting": false
          }
        },
        "gather": {
          "logged": 1727554095146
        }
      }
    },
    {
      "cell_type": "code",
      "source": [
        "# Define the user's question\n",
        "query = \"How did Juliet die?\"\n",
        "\n",
        "retriever = vectorstore.as_retriever(\n",
        "            search_type=\"similarity\",\n",
        "            search_kwargs={\"k\": 3},\n",
        "        )\n",
        "relevant_docs = retriever.invoke(query)"
      ],
      "outputs": [],
      "execution_count": 11,
      "metadata": {
        "jupyter": {
          "source_hidden": false,
          "outputs_hidden": false
        },
        "nteract": {
          "transient": {
            "deleting": false
          }
        },
        "gather": {
          "logged": 1727554279410
        }
      }
    },
    {
      "cell_type": "code",
      "source": [
        "# Display the relevant results with metadata\n",
        "print(\"\\n--- Relevant Documents ---\")\n",
        "for i, doc in enumerate(relevant_docs, 1):\n",
        "    print(f\"Document {i}:\\n{doc.page_content}\\n\")"
      ],
      "outputs": [
        {
          "output_type": "stream",
          "name": "stdout",
          "text": "\n--- Relevant Documents ---\nDocument 1:\nEnter Juliet.\n\nJULIET.\nGallop apace, you fiery-footed steeds,\nTowards Phoebus’ lodging. Such a waggoner\nAs Phaeton would whip you to the west\nAnd bring in cloudy night immediately.\nSpread thy close curtain, love-performing night,\nThat runaway’s eyes may wink, and Romeo\nLeap to these arms, untalk’d of and unseen.\nLovers can see to do their amorous rites\nBy their own beauties: or, if love be blind,\nIt best agrees with night. Come, civil night,\nThou sober-suited matron, all in black,\nAnd learn me how to lose a winning match,\nPlay’d for a pair of stainless maidenhoods.\nHood my unmann’d blood, bating in my cheeks,\nWith thy black mantle, till strange love, grow bold,\nThink true love acted simple modesty.\nCome, night, come Romeo; come, thou day in night;\nFor thou wilt lie upon the wings of night\nWhiter than new snow upon a raven’s back.\nCome gentle night, come loving black-brow’d night,\nGive me my Romeo, and when I shall die,\nTake him and cut him out in little stars,\nAnd he will make the face of heaven so fine\nThat all the world will be in love with night,\nAnd pay no worship to the garish sun.\nO, I have bought the mansion of a love,\nBut not possess’d it; and though I am sold,\nNot yet enjoy’d. So tedious is this day\nAs is the night before some festival\nTo an impatient child that hath new robes\nAnd may not wear them. O, here comes my Nurse,\nAnd she brings news, and every tongue that speaks\nBut Romeo’s name speaks heavenly eloquence.\n\n Enter Nurse, with cords.\n\nNow, Nurse, what news? What hast thou there?\nThe cords that Romeo bid thee fetch?\n\nNURSE.\nAy, ay, the cords.\n\n [_Throws them down._]\n\nJULIET.\nAy me, what news? Why dost thou wring thy hands?\n\nNURSE.\nAh, well-a-day, he’s dead, he’s dead, he’s dead!\nWe are undone, lady, we are undone.\nAlack the day, he’s gone, he’s kill’d, he’s dead.\n\nJULIET.\nCan heaven be so envious?\n\nNURSE.\nRomeo can,\nThough heaven cannot. O Romeo, Romeo.\nWho ever would have thought it? Romeo!\n\nJULIET.\nWhat devil art thou, that dost torment me thus?\nThis torture should be roar’d in dismal hell.\nHath Romeo slain himself? Say thou but Ay,\nAnd that bare vowel I shall poison more\nThan the death-darting eye of cockatrice.\nI am not I if there be such an I;\nOr those eyes shut that make thee answer Ay.\nIf he be slain, say Ay; or if not, No.\nBrief sounds determine of my weal or woe.\n\nNURSE.\nI saw the wound, I saw it with mine eyes,\nGod save the mark!—here on his manly breast.\nA piteous corse, a bloody piteous corse;\nPale, pale as ashes, all bedaub’d in blood,\nAll in gore-blood. I swounded at the sight.\n\nJULIET.\nO, break, my heart. Poor bankrout, break at once.\nTo prison, eyes; ne’er look on liberty.\nVile earth to earth resign; end motion here,\nAnd thou and Romeo press one heavy bier.\n\nNURSE.\nO Tybalt, Tybalt, the best friend I had.\nO courteous Tybalt, honest gentleman!\nThat ever I should live to see thee dead.\n\nJULIET.\nWhat storm is this that blows so contrary?\nIs Romeo slaughter’d and is Tybalt dead?\nMy dearest cousin, and my dearer lord?\nThen dreadful trumpet sound the general doom,\nFor who is living, if those two are gone?\n\nNURSE.\nTybalt is gone, and Romeo banished,\nRomeo that kill’d him, he is banished.\n\nJULIET.\nO God! Did Romeo’s hand shed Tybalt’s blood?\n\nNURSE.\nIt did, it did; alas the day, it did.\n\nJULIET.\nO serpent heart, hid with a flowering face!\nDid ever dragon keep so fair a cave?\nBeautiful tyrant, fiend angelical,\nDove-feather’d raven, wolvish-ravening lamb!\nDespised substance of divinest show!\nJust opposite to what thou justly seem’st,\nA damned saint, an honourable villain!\nO nature, what hadst thou to do in hell\nWhen thou didst bower the spirit of a fiend\nIn mortal paradise of such sweet flesh?\nWas ever book containing such vile matter\nSo fairly bound? O, that deceit should dwell\nIn such a gorgeous palace.\n\nDocument 2:\nLADY CAPULET.\nO me! This sight of death is as a bell\nThat warns my old age to a sepulchre.\n\n Enter Montague and others.\n\nPRINCE.\nCome, Montague, for thou art early up,\nTo see thy son and heir more early down.\n\nMONTAGUE.\nAlas, my liege, my wife is dead tonight.\nGrief of my son’s exile hath stopp’d her breath.\nWhat further woe conspires against mine age?\n\nPRINCE.\nLook, and thou shalt see.\n\nMONTAGUE.\nO thou untaught! What manners is in this,\nTo press before thy father to a grave?\n\nPRINCE.\nSeal up the mouth of outrage for a while,\nTill we can clear these ambiguities,\nAnd know their spring, their head, their true descent,\nAnd then will I be general of your woes,\nAnd lead you even to death. Meantime forbear,\nAnd let mischance be slave to patience.\nBring forth the parties of suspicion.\n\nFRIAR LAWRENCE.\nI am the greatest, able to do least,\nYet most suspected, as the time and place\nDoth make against me, of this direful murder.\nAnd here I stand, both to impeach and purge\nMyself condemned and myself excus’d.\n\nPRINCE.\nThen say at once what thou dost know in this.\n\nFRIAR LAWRENCE.\nI will be brief, for my short date of breath\nIs not so long as is a tedious tale.\nRomeo, there dead, was husband to that Juliet,\nAnd she, there dead, that Romeo’s faithful wife.\nI married them; and their stol’n marriage day\nWas Tybalt’s doomsday, whose untimely death\nBanish’d the new-made bridegroom from this city;\nFor whom, and not for Tybalt, Juliet pin’d.\nYou, to remove that siege of grief from her,\nBetroth’d, and would have married her perforce\nTo County Paris. Then comes she to me,\nAnd with wild looks, bid me devise some means\nTo rid her from this second marriage,\nOr in my cell there would she kill herself.\nThen gave I her, so tutored by my art,\nA sleeping potion, which so took effect\nAs I intended, for it wrought on her\nThe form of death. Meantime I writ to Romeo\nThat he should hither come as this dire night\nTo help to take her from her borrow’d grave,\nBeing the time the potion’s force should cease.\nBut he which bore my letter, Friar John,\nWas stay’d by accident; and yesternight\nReturn’d my letter back. Then all alone\nAt the prefixed hour of her waking\nCame I to take her from her kindred’s vault,\nMeaning to keep her closely at my cell\nTill I conveniently could send to Romeo.\nBut when I came, some minute ere the time\nOf her awaking, here untimely lay\nThe noble Paris and true Romeo dead.\nShe wakes; and I entreated her come forth\nAnd bear this work of heaven with patience.\nBut then a noise did scare me from the tomb;\nAnd she, too desperate, would not go with me,\nBut, as it seems, did violence on herself.\nAll this I know; and to the marriage\nHer Nurse is privy. And if ought in this\nMiscarried by my fault, let my old life\nBe sacrific’d, some hour before his time,\nUnto the rigour of severest law.\n\nPRINCE.\nWe still have known thee for a holy man.\nWhere’s Romeo’s man? What can he say to this?\n\nBALTHASAR.\nI brought my master news of Juliet’s death,\nAnd then in post he came from Mantua\nTo this same place, to this same monument.\nThis letter he early bid me give his father,\nAnd threaten’d me with death, going in the vault,\nIf I departed not, and left him there.\n\nPRINCE.\nGive me the letter, I will look on it.\nWhere is the County’s Page that rais’d the watch?\nSirrah, what made your master in this place?\n\nPAGE.\nHe came with flowers to strew his lady’s grave,\nAnd bid me stand aloof, and so I did.\nAnon comes one with light to ope the tomb,\nAnd by and by my master drew on him,\nAnd then I ran away to call the watch.\n\nPRINCE.\nThis letter doth make good the Friar’s words,\nTheir course of love, the tidings of her death.\nAnd here he writes that he did buy a poison\nOf a poor ’pothecary, and therewithal\nCame to this vault to die, and lie with Juliet.\nWhere be these enemies? Capulet, Montague,\nSee what a scourge is laid upon your hate,\nThat heaven finds means to kill your joys with love!\nAnd I, for winking at your discords too,\nHave lost a brace of kinsmen. All are punish’d.\n\nDocument 3:\nROMEO.\nAgain in triumph, and Mercutio slain?\nAway to heaven respective lenity,\nAnd fire-ey’d fury be my conduct now!\nNow, Tybalt, take the ‘villain’ back again\nThat late thou gav’st me, for Mercutio’s soul\nIs but a little way above our heads,\nStaying for thine to keep him company.\nEither thou or I, or both, must go with him.\n\nTYBALT.\nThou wretched boy, that didst consort him here,\nShalt with him hence.\n\nROMEO.\nThis shall determine that.\n\n [_They fight; Tybalt falls._]\n\nBENVOLIO.\nRomeo, away, be gone!\nThe citizens are up, and Tybalt slain.\nStand not amaz’d. The Prince will doom thee death\nIf thou art taken. Hence, be gone, away!\n\nROMEO.\nO, I am fortune’s fool!\n\nBENVOLIO.\nWhy dost thou stay?\n\n [_Exit Romeo._]\n\n Enter Citizens.\n\nFIRST CITIZEN.\nWhich way ran he that kill’d Mercutio?\nTybalt, that murderer, which way ran he?\n\nBENVOLIO.\nThere lies that Tybalt.\n\nFIRST CITIZEN.\nUp, sir, go with me.\nI charge thee in the Prince’s name obey.\n\n Enter Prince, attended; Montague, Capulet, their Wives and others.\n\nPRINCE.\nWhere are the vile beginners of this fray?\n\nBENVOLIO.\nO noble Prince, I can discover all\nThe unlucky manage of this fatal brawl.\nThere lies the man, slain by young Romeo,\nThat slew thy kinsman, brave Mercutio.\n\nLADY CAPULET.\nTybalt, my cousin! O my brother’s child!\nO Prince! O husband! O, the blood is spill’d\nOf my dear kinsman! Prince, as thou art true,\nFor blood of ours shed blood of Montague.\nO cousin, cousin.\n\nPRINCE.\nBenvolio, who began this bloody fray?\n\nBENVOLIO.\nTybalt, here slain, whom Romeo’s hand did slay;\nRomeo, that spoke him fair, bid him bethink\nHow nice the quarrel was, and urg’d withal\nYour high displeasure. All this uttered\nWith gentle breath, calm look, knees humbly bow’d\nCould not take truce with the unruly spleen\nOf Tybalt, deaf to peace, but that he tilts\nWith piercing steel at bold Mercutio’s breast,\nWho, all as hot, turns deadly point to point,\nAnd, with a martial scorn, with one hand beats\nCold death aside, and with the other sends\nIt back to Tybalt, whose dexterity\nRetorts it. Romeo he cries aloud,\n‘Hold, friends! Friends, part!’ and swifter than his tongue,\nHis agile arm beats down their fatal points,\nAnd ’twixt them rushes; underneath whose arm\nAn envious thrust from Tybalt hit the life\nOf stout Mercutio, and then Tybalt fled.\nBut by and by comes back to Romeo,\nWho had but newly entertain’d revenge,\nAnd to’t they go like lightning; for, ere I\nCould draw to part them was stout Tybalt slain;\nAnd as he fell did Romeo turn and fly.\nThis is the truth, or let Benvolio die.\n\nLADY CAPULET.\nHe is a kinsman to the Montague.\nAffection makes him false, he speaks not true.\nSome twenty of them fought in this black strife,\nAnd all those twenty could but kill one life.\nI beg for justice, which thou, Prince, must give;\nRomeo slew Tybalt, Romeo must not live.\n\nPRINCE.\nRomeo slew him, he slew Mercutio.\nWho now the price of his dear blood doth owe?\n\nMONTAGUE.\nNot Romeo, Prince, he was Mercutio’s friend;\nHis fault concludes but what the law should end,\nThe life of Tybalt.\n\nPRINCE.\nAnd for that offence\nImmediately we do exile him hence.\nI have an interest in your hate’s proceeding,\nMy blood for your rude brawls doth lie a-bleeding.\nBut I’ll amerce you with so strong a fine\nThat you shall all repent the loss of mine.\nI will be deaf to pleading and excuses;\nNor tears nor prayers shall purchase out abuses.\nTherefore use none. Let Romeo hence in haste,\nElse, when he is found, that hour is his last.\nBear hence this body, and attend our will.\nMercy but murders, pardoning those that kill.\n\n [_Exeunt._]\n\nSCENE II. A Room in Capulet’s House.\n\n Enter Juliet.\n\n"
        }
      ],
      "execution_count": 12,
      "metadata": {
        "jupyter": {
          "source_hidden": false,
          "outputs_hidden": false
        },
        "nteract": {
          "transient": {
            "deleting": false
          }
        },
        "gather": {
          "logged": 1727554280143
        }
      }
    },
    {
      "cell_type": "code",
      "source": [
        "# Combine the query and the relevant document contents\n",
        "combined_input = (\n",
        "    \"Here are some documents that might help answer the question: \"\n",
        "    + query\n",
        "    + \"\\n\\nRelevant Documents:\\n\"\n",
        "    + \"\\n\\n\".join([doc.page_content for doc in relevant_docs])\n",
        "    + \"\\n\\nPlease provide an answer based only on the provided documents. If the answer is not found in the documents, respond with 'I'm not sure'.\"\n",
        ")"
      ],
      "outputs": [],
      "execution_count": 13,
      "metadata": {
        "jupyter": {
          "source_hidden": false,
          "outputs_hidden": false
        },
        "nteract": {
          "transient": {
            "deleting": false
          }
        },
        "gather": {
          "logged": 1727554281139
        }
      }
    },
    {
      "cell_type": "code",
      "source": [
        "# Define the messages for the model\n",
        "messages = [\n",
        "    SystemMessage(content=\"You are a helpful assistant.\"),\n",
        "    HumanMessage(content=combined_input),\n",
        "]\n",
        "\n",
        "# Invoke the model with the combined input\n",
        "result = model.invoke(messages)\n",
        "\n",
        "# Display the full result and content only\n",
        "print(\"\\n--- Generated Response ---\")\n",
        "# print(\"Full result:\")\n",
        "# print(result)\n",
        "print(\"Content only:\")\n",
        "print(result.content)"
      ],
      "outputs": [
        {
          "output_type": "stream",
          "name": "stdout",
          "text": "\n--- Generated Response ---\nContent only:\nJuliet died because, upon waking from a potion that made her appear dead, she found Romeo dead beside her. In her despair, she took her own life. The documents outline that she was initially meant to be married to Paris, but she was in love with Romeo. After Romeo was banished for killing Tybalt, Juliet, desperate and believing that Romeo was dead, chose to end her own life rather than live without him.\n"
        }
      ],
      "execution_count": 14,
      "metadata": {
        "jupyter": {
          "source_hidden": false,
          "outputs_hidden": false
        },
        "nteract": {
          "transient": {
            "deleting": false
          }
        },
        "gather": {
          "logged": 1727554283095
        }
      }
    },
    {
      "cell_type": "code",
      "source": [],
      "outputs": [],
      "execution_count": null,
      "metadata": {
        "jupyter": {
          "source_hidden": false,
          "outputs_hidden": false
        },
        "nteract": {
          "transient": {
            "deleting": false
          }
        }
      }
    }
  ],
  "metadata": {
    "kernel_info": {
      "name": "python310-sdkv2"
    },
    "kernelspec": {
      "name": "python310-sdkv2",
      "language": "python",
      "display_name": "Python 3.10 - SDK v2"
    },
    "language_info": {
      "name": "python",
      "version": "3.10.14",
      "mimetype": "text/x-python",
      "codemirror_mode": {
        "name": "ipython",
        "version": 3
      },
      "pygments_lexer": "ipython3",
      "nbconvert_exporter": "python",
      "file_extension": ".py"
    },
    "microsoft": {
      "ms_spell_check": {
        "ms_spell_check_language": "en"
      },
      "host": {
        "AzureML": {
          "notebookHasBeenCompleted": true
        }
      }
    },
    "nteract": {
      "version": "nteract-front-end@1.0.0"
    }
  },
  "nbformat": 4,
  "nbformat_minor": 2
}